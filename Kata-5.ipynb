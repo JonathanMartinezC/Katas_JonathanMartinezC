{
 "cells": [
  {
   "cell_type": "markdown",
   "metadata": {},
   "source": [
    "# Ejercicio 1"
   ]
  },
  {
   "cell_type": "code",
   "execution_count": 5,
   "metadata": {},
   "outputs": [
    {
     "name": "stdout",
     "output_type": "stream",
     "text": [
      "628949330\n",
      "390577534\n"
     ]
    }
   ],
   "source": [
    "planeta1 = 149597870 #km\n",
    "planeta2 = 778547200 #km\n",
    "\n",
    "distancia = abs(planeta1-planeta2)\n",
    "\n",
    "print(str(distancia)+\"\\n\"+str(round(distancia*0.621)))\n"
   ]
  },
  {
   "cell_type": "markdown",
   "metadata": {},
   "source": [
    "# Ejercicio 2"
   ]
  },
  {
   "cell_type": "code",
   "execution_count": 8,
   "metadata": {},
   "outputs": [
    {
     "name": "stdout",
     "output_type": "stream",
     "text": [
      "78300000\n",
      "48624300\n"
     ]
    }
   ],
   "source": [
    "planeta1 = input(\"Escriba la distancia del primer planeta al sol\")\n",
    "planeta2 = input(\"Escriba la distancia del segundo planeta al sol\")\n",
    "\n",
    "planeta1 = int(planeta1)\n",
    "planeta2 = int(planeta2)\n",
    "\n",
    "distancia = abs(planeta1-planeta2)\n",
    "\n",
    "print(distancia)\n",
    "\n",
    "distancia *= 0.621\n",
    "\n",
    "print(round(distancia))"
   ]
  }
 ],
 "metadata": {
  "interpreter": {
   "hash": "89255b8e3f011fd8806f15a8fcf1358f30faab252f8857bcbb291bf423770416"
  },
  "kernelspec": {
   "display_name": "Python 3.10.2 64-bit",
   "language": "python",
   "name": "python3"
  },
  "language_info": {
   "codemirror_mode": {
    "name": "ipython",
    "version": 3
   },
   "file_extension": ".py",
   "mimetype": "text/x-python",
   "name": "python",
   "nbconvert_exporter": "python",
   "pygments_lexer": "ipython3",
   "version": "3.10.2"
  },
  "orig_nbformat": 4
 },
 "nbformat": 4,
 "nbformat_minor": 2
}
