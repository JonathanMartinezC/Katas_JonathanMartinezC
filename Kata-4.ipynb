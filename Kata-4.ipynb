{
 "cells": [
  {
   "cell_type": "markdown",
   "metadata": {},
   "source": [
    "## Ejercicio 1"
   ]
  },
  {
   "cell_type": "code",
   "execution_count": 35,
   "metadata": {},
   "outputs": [],
   "source": [
    "text = \"\"\"Interesting facts about the Moon. The Moon is Earth's only satellite. There are several interesting facts about the Moon and how it affects life here on Earth. On average, the Moon moves 4cm away from the Earth every year.This yearly drift is not significant enough to cause immediate effects on Earth. The highest daylight temperature of the Moon is 127 C.\"\"\""
   ]
  },
  {
   "cell_type": "code",
   "execution_count": 34,
   "metadata": {},
   "outputs": [
    {
     "data": {
      "text/plain": [
       "['Interesting facts about the Moon',\n",
       " \"The Moon is Earth's only satellite\",\n",
       " 'There are several interesting facts about the Moon and how it affects life here on Earth',\n",
       " 'On average, the Moon moves 4cm away from the Earth every year.This yearly drift is not significant enough to cause immediate effects on Earth',\n",
       " 'The highest daylight temperature of the Moon is 127 C.']"
      ]
     },
     "execution_count": 34,
     "metadata": {},
     "output_type": "execute_result"
    }
   ],
   "source": [
    "divideText = text.split('. ') \n",
    "divideText"
   ]
  },
  {
   "cell_type": "code",
   "execution_count": 33,
   "metadata": {},
   "outputs": [
    {
     "name": "stdout",
     "output_type": "stream",
     "text": [
      "On average, the Moon moves 4cm away from the Earth every year.This yearly drift is not significant enough to cause immediate effects on Earth\n",
      "The highest daylight temperature of the Moon is 127 Celsius.\n"
     ]
    }
   ],
   "source": [
    "palabrasClave = [\"average\", \"temperature\", \"distance\"]\n",
    "\n",
    "for dato in divideText:\n",
    "    for palabraClave in palabrasClave:\n",
    "        if palabraClave in dato:\n",
    "            print(dato.replace('C', 'Celsius'))"
   ]
  },
  {
   "cell_type": "markdown",
   "metadata": {},
   "source": [
    "## Ejercicio 2"
   ]
  },
  {
   "cell_type": "code",
   "execution_count": 26,
   "metadata": {},
   "outputs": [],
   "source": [
    "name = \"Moon\"\n",
    "gravity = 0.00162 # in kms\n",
    "planet = \"Earth\""
   ]
  },
  {
   "cell_type": "code",
   "execution_count": 27,
   "metadata": {},
   "outputs": [
    {
     "name": "stdout",
     "output_type": "stream",
     "text": [
      "Gravity facts about Ganímedes\n",
      "--------------------------------------------------------------------------------\n",
      "Planet name: Marte\n",
      "Gravity on Ganímedes: 1.4300000000000002 m/s^2\n"
     ]
    }
   ],
   "source": [
    "title = f'Gravity facts about {name}'\n",
    "datos = f\"\"\"{'-'*80}\n",
    "Planet name: {planet}\n",
    "Gravity on {name}: {gravity*1000} m/s^2\"\"\"\n",
    "\n",
    "print(title +\"\\n\"+datos)"
   ]
  },
  {
   "cell_type": "code",
   "execution_count": 24,
   "metadata": {},
   "outputs": [
    {
     "name": "stdout",
     "output_type": "stream",
     "text": [
      "Gravity facts about Moon\n",
      "--------------------------------------------------------------------------------\n",
      "Planet name: Earth\n",
      "Gravity on Moon: 1.6199999999999999 m/s^2\n"
     ]
    }
   ],
   "source": [
    "union = f\"\"\"{title}\n",
    "{datos}\"\"\"\n",
    "\n",
    "print(union)"
   ]
  },
  {
   "cell_type": "code",
   "execution_count": 28,
   "metadata": {},
   "outputs": [
    {
     "name": "stdout",
     "output_type": "stream",
     "text": [
      "Gravity facts about Moon\n",
      "--------------------------------------------------------------------------------\n",
      "Planet name: Earth\n",
      "Gravity on Moon: 1.6199999999999999 m/s^2\n"
     ]
    }
   ],
   "source": [
    "name = 'Ganímedes'\n",
    "gravity  = 0.00143 # in kms\n",
    "planet = 'Marte'\n",
    "\n",
    "print(union)"
   ]
  },
  {
   "cell_type": "code",
   "execution_count": 30,
   "metadata": {},
   "outputs": [
    {
     "name": "stdout",
     "output_type": "stream",
     "text": [
      "Gravity facts about Ganímedes\n",
      "--------------------------------------------------------------------------------\n",
      "Planet name: Marte\n",
      "Gravity on Ganímedes: 1.4300000000000002 m/s^2\n"
     ]
    }
   ],
   "source": [
    "union2 = \"\"\"Gravity facts about {0}\n",
    "--------------------------------------------------------------------------------\n",
    "Planet name: {1}\n",
    "Gravity on {0}: {2} m/s^2\"\"\"\n",
    "\n",
    "print(union2.format(name,planet,gravity*1000))"
   ]
  }
 ],
 "metadata": {
  "interpreter": {
   "hash": "89255b8e3f011fd8806f15a8fcf1358f30faab252f8857bcbb291bf423770416"
  },
  "kernelspec": {
   "display_name": "Python 3.10.2 64-bit",
   "language": "python",
   "name": "python3"
  },
  "language_info": {
   "codemirror_mode": {
    "name": "ipython",
    "version": 3
   },
   "file_extension": ".py",
   "mimetype": "text/x-python",
   "name": "python",
   "nbconvert_exporter": "python",
   "pygments_lexer": "ipython3",
   "version": "3.10.2"
  },
  "orig_nbformat": 4
 },
 "nbformat": 4,
 "nbformat_minor": 2
}
