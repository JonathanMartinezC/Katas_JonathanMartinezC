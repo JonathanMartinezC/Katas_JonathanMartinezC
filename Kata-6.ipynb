{
 "cells": [
  {
   "cell_type": "markdown",
   "metadata": {},
   "source": [
    "# Ejercicio 1"
   ]
  },
  {
   "cell_type": "code",
   "execution_count": 7,
   "metadata": {},
   "outputs": [
    {
     "name": "stdout",
     "output_type": "stream",
     "text": [
      "8\n"
     ]
    }
   ],
   "source": [
    "planets = ['Mercurio', 'Venus', 'Tierra', 'Marte', 'Jupiter', 'Saturno', 'Uranuo', 'Nepturno']\n",
    "\n",
    "print(len(planets))\n"
   ]
  },
  {
   "cell_type": "code",
   "execution_count": 8,
   "metadata": {},
   "outputs": [
    {
     "name": "stdout",
     "output_type": "stream",
     "text": [
      "9\n",
      "Pluton\n"
     ]
    }
   ],
   "source": [
    "planets.append(\"Pluton\")\n",
    "\n",
    "print(len(planets))\n",
    "\n",
    "print(planets[-1])\n"
   ]
  },
  {
   "cell_type": "markdown",
   "metadata": {},
   "source": [
    "# Ejercicio 2"
   ]
  },
  {
   "cell_type": "code",
   "execution_count": 23,
   "metadata": {},
   "outputs": [
    {
     "name": "stdout",
     "output_type": "stream",
     "text": [
      "Los planetas mas cercanos que \"Marte\" al sol son: ['Mercurio', 'Venus', 'Tierra']\n"
     ]
    }
   ],
   "source": [
    "planets = ['Mercurio', 'Venus', 'Tierra', 'Marte', 'Jupiter', 'Saturno', 'Uranuo', 'Nepturno']\n",
    "\n",
    "name_planet = input('Ingrese el nombre del planeta, \"Procura hacerlo iniciando con mayuscula\": ')\n",
    "\n",
    "planet_index = planets.index(name_planet)\n",
    "\n",
    "print(f'Los planetas mas cercanos que \"{name_planet}\" al sol son: {planets[0:planet_index]}')\n"
   ]
  },
  {
   "cell_type": "code",
   "execution_count": 25,
   "metadata": {},
   "outputs": [
    {
     "name": "stdout",
     "output_type": "stream",
     "text": [
      "Los planetas mas lejanos que \"Marte\" al sol son: ['Jupiter', 'Saturno', 'Uranuo', 'Nepturno']\n"
     ]
    }
   ],
   "source": [
    "print(f'Los planetas mas lejanos que \"{name_planet}\" al sol son: {planets[planet_index+1:]}')\n"
   ]
  }
 ],
 "metadata": {
  "interpreter": {
   "hash": "89255b8e3f011fd8806f15a8fcf1358f30faab252f8857bcbb291bf423770416"
  },
  "kernelspec": {
   "display_name": "Python 3.10.2 64-bit",
   "language": "python",
   "name": "python3"
  },
  "language_info": {
   "codemirror_mode": {
    "name": "ipython",
    "version": 3
   },
   "file_extension": ".py",
   "mimetype": "text/x-python",
   "name": "python",
   "nbconvert_exporter": "python",
   "pygments_lexer": "ipython3",
   "version": "3.10.2"
  },
  "orig_nbformat": 4
 },
 "nbformat": 4,
 "nbformat_minor": 2
}
