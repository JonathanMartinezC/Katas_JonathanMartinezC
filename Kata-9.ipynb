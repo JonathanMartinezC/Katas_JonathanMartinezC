{
 "cells": [
  {
   "cell_type": "markdown",
   "metadata": {},
   "source": [
    "# Ejercicio 1"
   ]
  },
  {
   "cell_type": "code",
   "execution_count": 62,
   "metadata": {},
   "outputs": [],
   "source": [
    "def tanques_comb(t1,t2,t3):\n",
    "    return f\"\"\"\" Reporte:\n",
    "    Tanque 1: {t1}\n",
    "    Tanque 2: {t2}\n",
    "    Tanque 3: {t3}\n",
    "    Promedio: {fun_promedio(t1,t2,t3)}\n",
    "    \"\"\"\n",
    "def fun_promedio(*args):\n",
    "    promedio = sum(args)/len(args)\n",
    "    return promedio"
   ]
  },
  {
   "cell_type": "code",
   "execution_count": 63,
   "metadata": {},
   "outputs": [
    {
     "name": "stdout",
     "output_type": "stream",
     "text": [
      "\" Reporte:\n",
      "    Tanque 1: 5\n",
      "    Tanque 2: 5\n",
      "    Tanque 3: 5\n",
      "    Promedio: 5.0\n",
      "    \n"
     ]
    }
   ],
   "source": [
    "print(tanques_comb(5,5,5))"
   ]
  },
  {
   "cell_type": "markdown",
   "metadata": {},
   "source": [
    "# Ejercicio 2"
   ]
  },
  {
   "cell_type": "code",
   "execution_count": 64,
   "metadata": {},
   "outputs": [],
   "source": [
    "def informe_mision(pre_launch,fly_time,destination,out_tank,ins_tank):\n",
    "    return f\"\"\"\n",
    "    El viaje con destino a {destination}\n",
    "    Durara {pre_launch + fly_time} minutos\n",
    "    El combustible total es de {out_tank + ins_tank} galones\n",
    "    \"\"\""
   ]
  },
  {
   "cell_type": "code",
   "execution_count": 65,
   "metadata": {},
   "outputs": [
    {
     "name": "stdout",
     "output_type": "stream",
     "text": [
      "\n",
      "    El viaje con destino a Marte\n",
      "    Durara 120 minutos\n",
      "    El combustible total es de 700000 galones\n",
      "    \n"
     ]
    }
   ],
   "source": [
    "print(informe_mision(20, 100, \"Marte\", 400000, 300000))"
   ]
  },
  {
   "cell_type": "code",
   "execution_count": 75,
   "metadata": {},
   "outputs": [],
   "source": [
    "def informe_mision(destination, *minutes, **fuel_reservoirs):\n",
    "    return f\"\"\"\n",
    "    El viaje con destino a {destination}\n",
    "    Durara {sum(minutes)} minutos\n",
    "    El combustible total es de {sum(fuel_reservoirs.values())} galones\n",
    "    \"\"\""
   ]
  },
  {
   "cell_type": "code",
   "execution_count": 76,
   "metadata": {},
   "outputs": [
    {
     "name": "stdout",
     "output_type": "stream",
     "text": [
      "\n",
      "    El viaje con destino a Marte\n",
      "    Durara 120 minutos\n",
      "    El combustible total es de 700000 galones\n",
      "    \n"
     ]
    }
   ],
   "source": [
    "print(informe_mision(\"Marte\", 20, 100, out_tank=400000, ins_tank=300000))"
   ]
  },
  {
   "cell_type": "code",
   "execution_count": 82,
   "metadata": {},
   "outputs": [],
   "source": [
    "def informe_mision(destination, *minutes, **fuel_reservoirs):\n",
    "\n",
    "    genera_reporte = f\"\"\"\n",
    "    El viaje con destino a {destination}\n",
    "    Durara {sum(minutes)} minutos\n",
    "    El combustible total es de {sum(fuel_reservoirs.values())} galones\n",
    "    \"\"\"\n",
    "    for title, val in fuel_reservoirs.items():\n",
    "        genera_reporte += f\"El tanque {title} cuenta con {val} galones\\n    \"\n",
    "    return genera_reporte"
   ]
  },
  {
   "cell_type": "code",
   "execution_count": 83,
   "metadata": {},
   "outputs": [
    {
     "name": "stdout",
     "output_type": "stream",
     "text": [
      "\n",
      "    El viaje con destino a Marte\n",
      "    Durara 120 minutos\n",
      "    El combustible total es de 700000 galones\n",
      "    El tanque externo cuenta con 400000 galones\n",
      "    El tanque interno cuenta con 300000 galones\n",
      "    \n"
     ]
    }
   ],
   "source": [
    "print(informe_mision(\"Marte\", 20, 100, externo=400000, interno=300000))"
   ]
  }
 ],
 "metadata": {
  "interpreter": {
   "hash": "89255b8e3f011fd8806f15a8fcf1358f30faab252f8857bcbb291bf423770416"
  },
  "kernelspec": {
   "display_name": "Python 3.10.2 64-bit",
   "language": "python",
   "name": "python3"
  },
  "language_info": {
   "codemirror_mode": {
    "name": "ipython",
    "version": 3
   },
   "file_extension": ".py",
   "mimetype": "text/x-python",
   "name": "python",
   "nbconvert_exporter": "python",
   "pygments_lexer": "ipython3",
   "version": "3.10.2"
  },
  "orig_nbformat": 4
 },
 "nbformat": 4,
 "nbformat_minor": 2
}
