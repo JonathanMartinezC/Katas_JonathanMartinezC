{
 "cells": [
  {
   "cell_type": "markdown",
   "metadata": {},
   "source": [
    "# Cata-3"
   ]
  },
  {
   "cell_type": "markdown",
   "metadata": {},
   "source": [
    "Problema 1"
   ]
  },
  {
   "cell_type": "code",
   "execution_count": 4,
   "metadata": {},
   "outputs": [
    {
     "name": "stdout",
     "output_type": "stream",
     "text": [
      "Un asteroide se acerca, y viaja a una velocidad de 49km/s\n"
     ]
    }
   ],
   "source": [
    "velocidad_asteroide = 49\n",
    "\n",
    "if velocidad_asteroide > 25:\n",
    "    print(\"¡Alerta! Un asteroide se acerca a la tierra a una velocidad de \" + str(velocidad_asteroide) + \"km/s\")\n",
    "else: \n",
    "    print(\"Todo bien\")"
   ]
  },
  {
   "cell_type": "markdown",
   "metadata": {},
   "source": [
    "Problema 2"
   ]
  },
  {
   "cell_type": "code",
   "execution_count": 10,
   "metadata": {},
   "outputs": [
    {
     "name": "stdout",
     "output_type": "stream",
     "text": [
      "Un asteroide entro a la atmósfera a una velocidad de 19km/s, no sera visible\n"
     ]
    }
   ],
   "source": [
    "velocidad_asteroide = 19\n",
    "\n",
    "if velocidad_asteroide > 20:\n",
    "    print(\"Un asteroide entro a la atmósfera y podria ser visible, salgan a buscarlo en el cielo\")\n",
    "elif velocidad_asteroide == 20:\n",
    "    print(\"Un asteroide entro a la atmósfera y podria ser visible, salgan a buscarlo en el cielo\")\n",
    "else:\n",
    "    print(\"Un asteroide entro a la atmósfera a una velocidad de \"+ str(velocidad_asteroide) + \"km/s, no sera visible\")"
   ]
  },
  {
   "cell_type": "markdown",
   "metadata": {},
   "source": [
    "Problema 3"
   ]
  },
  {
   "cell_type": "code",
   "execution_count": 13,
   "metadata": {},
   "outputs": [
    {
     "name": "stdout",
     "output_type": "stream",
     "text": [
      "Un asteroide entro a la atmósfera y podria ser visible, salgan a buscarlo en el cielo\n"
     ]
    }
   ],
   "source": [
    "velocidad_asteroide = 26\n",
    "tamanio_asteroide = 24\n",
    "if velocidad_asteroide > 25 and tamanio_asteroide > 25:\n",
    "    print(\"¡Alerta, Un asteroide peligroso viene hacia la Tierra!\")\n",
    "elif velocidad_asteroide >= 20:\n",
    "    print(\"Un asteroide entro a la atmósfera y podria ser visible, salgan a buscarlo en el cielo\")\n",
    "elif tamanio_asteroide < 25:\n",
    "    print(\"Todo bien\")\n",
    "else:\n",
    "    print(\"Todo bien\")"
   ]
  }
 ],
 "metadata": {
  "interpreter": {
   "hash": "e327fa58a8d5cd106ab2956ed84bdb747a920a3d705179b264d806d348add0d1"
  },
  "kernelspec": {
   "display_name": "Python 3.7.4 ('CBT')",
   "language": "python",
   "name": "python3"
  },
  "language_info": {
   "codemirror_mode": {
    "name": "ipython",
    "version": 3
   },
   "file_extension": ".py",
   "mimetype": "text/x-python",
   "name": "python",
   "nbconvert_exporter": "python",
   "pygments_lexer": "ipython3",
   "version": "3.10.2"
  },
  "orig_nbformat": 4
 },
 "nbformat": 4,
 "nbformat_minor": 2
}
